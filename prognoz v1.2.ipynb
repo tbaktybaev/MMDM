{
 "cells": [
  {
   "cell_type": "code",
   "execution_count": 136,
   "id": "d4937a7d",
   "metadata": {},
   "outputs": [
    {
     "name": "stdout",
     "output_type": "stream",
     "text": [
      "Requirement already satisfied: matplotlib in c:\\users\\user\\appdata\\local\\programs\\python\\python310\\lib\\site-packages (3.5.1)\n",
      "Requirement already satisfied: python-dateutil>=2.7 in c:\\users\\user\\appdata\\local\\programs\\python\\python310\\lib\\site-packages (from matplotlib) (2.8.2)\n",
      "Requirement already satisfied: kiwisolver>=1.0.1 in c:\\users\\user\\appdata\\local\\programs\\python\\python310\\lib\\site-packages (from matplotlib) (1.4.2)\n",
      "Requirement already satisfied: fonttools>=4.22.0 in c:\\users\\user\\appdata\\local\\programs\\python\\python310\\lib\\site-packages (from matplotlib) (4.32.0)\n",
      "Requirement already satisfied: pyparsing>=2.2.1 in c:\\users\\user\\appdata\\local\\programs\\python\\python310\\lib\\site-packages (from matplotlib) (3.0.8)\n",
      "Requirement already satisfied: numpy>=1.17 in c:\\users\\user\\appdata\\local\\programs\\python\\python310\\lib\\site-packages (from matplotlib) (1.22.3)\n",
      "Requirement already satisfied: packaging>=20.0 in c:\\users\\user\\appdata\\local\\programs\\python\\python310\\lib\\site-packages (from matplotlib) (21.3)\n",
      "Requirement already satisfied: cycler>=0.10 in c:\\users\\user\\appdata\\local\\programs\\python\\python310\\lib\\site-packages (from matplotlib) (0.11.0)\n",
      "Requirement already satisfied: pillow>=6.2.0 in c:\\users\\user\\appdata\\local\\programs\\python\\python310\\lib\\site-packages (from matplotlib) (9.1.0)\n",
      "Requirement already satisfied: six>=1.5 in c:\\users\\user\\appdata\\local\\programs\\python\\python310\\lib\\site-packages (from python-dateutil>=2.7->matplotlib) (1.16.0)\n",
      "Collecting seaborn\n",
      "  Downloading seaborn-0.11.2-py3-none-any.whl (292 kB)\n",
      "     ------------------------------------ 292.8/292.8 KB 951.4 kB/s eta 0:00:00\n",
      "Requirement already satisfied: matplotlib>=2.2 in c:\\users\\user\\appdata\\local\\programs\\python\\python310\\lib\\site-packages (from seaborn) (3.5.1)\n",
      "Collecting pandas>=0.23\n",
      "  Downloading pandas-1.4.2-cp310-cp310-win_amd64.whl (10.6 MB)\n",
      "     ---------------------------------------- 10.6/10.6 MB 3.0 MB/s eta 0:00:00\n",
      "Requirement already satisfied: numpy>=1.15 in c:\\users\\user\\appdata\\local\\programs\\python\\python310\\lib\\site-packages (from seaborn) (1.22.3)\n",
      "Collecting scipy>=1.0\n",
      "  Downloading scipy-1.8.0-cp310-cp310-win_amd64.whl (37.0 MB)\n",
      "     ---------------------------------------- 37.0/37.0 MB 2.5 MB/s eta 0:00:00\n",
      "Requirement already satisfied: pillow>=6.2.0 in c:\\users\\user\\appdata\\local\\programs\\python\\python310\\lib\\site-packages (from matplotlib>=2.2->seaborn) (9.1.0)\n",
      "Requirement already satisfied: kiwisolver>=1.0.1 in c:\\users\\user\\appdata\\local\\programs\\python\\python310\\lib\\site-packages (from matplotlib>=2.2->seaborn) (1.4.2)\n",
      "Requirement already satisfied: packaging>=20.0 in c:\\users\\user\\appdata\\local\\programs\\python\\python310\\lib\\site-packages (from matplotlib>=2.2->seaborn) (21.3)\n",
      "Requirement already satisfied: fonttools>=4.22.0 in c:\\users\\user\\appdata\\local\\programs\\python\\python310\\lib\\site-packages (from matplotlib>=2.2->seaborn) (4.32.0)\n",
      "Requirement already satisfied: python-dateutil>=2.7 in c:\\users\\user\\appdata\\local\\programs\\python\\python310\\lib\\site-packages (from matplotlib>=2.2->seaborn) (2.8.2)\n",
      "Requirement already satisfied: pyparsing>=2.2.1 in c:\\users\\user\\appdata\\local\\programs\\python\\python310\\lib\\site-packages (from matplotlib>=2.2->seaborn) (3.0.8)\n",
      "Requirement already satisfied: cycler>=0.10 in c:\\users\\user\\appdata\\local\\programs\\python\\python310\\lib\\site-packages (from matplotlib>=2.2->seaborn) (0.11.0)\n",
      "Requirement already satisfied: pytz>=2020.1 in c:\\users\\user\\appdata\\local\\programs\\python\\python310\\lib\\site-packages (from pandas>=0.23->seaborn) (2022.1)\n",
      "Requirement already satisfied: six>=1.5 in c:\\users\\user\\appdata\\local\\programs\\python\\python310\\lib\\site-packages (from python-dateutil>=2.7->matplotlib>=2.2->seaborn) (1.16.0)\n",
      "Installing collected packages: scipy, pandas, seaborn\n",
      "Successfully installed pandas-1.4.2 scipy-1.8.0 seaborn-0.11.2\n"
     ]
    }
   ],
   "source": [
    "!pip install matplotlib\n",
    "!pip install seaborn"
   ]
  },
  {
   "cell_type": "code",
   "execution_count": 137,
   "id": "d42da8ee",
   "metadata": {},
   "outputs": [],
   "source": [
    "import numpy as np\n",
    "import matplotlib as plt\n",
    "import math as mt\n",
    "import seaborn as sb\n",
    "import pandas as pd\n",
    "\n",
    "%matplotlib inline"
   ]
  },
  {
   "cell_type": "code",
   "execution_count": 196,
   "id": "0ca10281",
   "metadata": {},
   "outputs": [],
   "source": [
    "class prognoz:\n",
    "    ''' \n",
    "    \n",
    "        '''\n",
    "    value = 0 \n",
    "    \n",
    "    def __init__(self, array_x, array_y):\n",
    "        self.array_x = array_x\n",
    "        self.array_y = array_y\n",
    "    \n",
    "    def sum_x(self):\n",
    "        return(sum(self.array_x))\n",
    "        \n",
    "    def sum_y(self):\n",
    "        return(sum(self.array_y[i] for i in range(len(self.array_y))))\n",
    "\n",
    "    def square_x(self):\n",
    "        return(sum(self.array_x[i]**2 for i in range(len(self.array_x))))\n",
    "        \n",
    "    def sum_xy(self):\n",
    "        return(sum([self.array_x[i] * self.array_y[i] for i in range(len(self.array_x))]))\n",
    "    \n",
    "    def var_a(self):\n",
    "        return((len(self.array_x)*prognoz.sum_xy(self) - prognoz.sum_x(self) * prognoz.sum_y(self))/\n",
    "        (len(self.array_x)*prognoz.square_x(self) - (prognoz.sum_x(self)**2)))\n",
    "    \n",
    "    def var_b(self):\n",
    "        return((prognoz.sum_y(self)-prognoz.var_a(self)*prognoz.sum_x(self)) / (len(self.array_x)))\n",
    "    \n",
    "    def array_f(self):\n",
    "        return([prognoz.var_a(self)*self.array_x[i] + prognoz.var_b(self) \n",
    "                for i in range(len(self.array_x))])\n",
    "    \n",
    "    def approx_func(self):\n",
    "        a = [prognoz.array_f(self)[i] - (prognoz.var_a(self)*self.array_x[i]+ prognoz.var_b(self)) \n",
    "                                         for i in range(len(prognoz.array_f(self)))]\n",
    "        return([a[i]**2 for i in range(len(a))]) \n",
    "    \n",
    "    def draw_board(self):\n",
    "        \n",
    "        list_xy = {\n",
    "            'x': self.array_x,\n",
    "            'y': self.array_y\n",
    "        }\n",
    "        \n",
    "        list_xf = {\n",
    "            'x': self.array_x,\n",
    "            'f': prognoz.array_f(self)\n",
    "        }\n",
    "        \n",
    "        \n",
    "        df_xy = pd.DataFrame(list_xy)\n",
    "        \n",
    "        df_xf = pd.DataFrame(list_xf)\n",
    "        print(df_xy)\n",
    "        print(df_xf)\n",
    "        sb.scatterplot(data = df_xy, x='x', y='y')\n",
    "        sb.lineplot(data = df_xf, x='x', y='f')\n",
    "        "
   ]
  },
  {
   "cell_type": "code",
   "execution_count": 197,
   "id": "83cac557",
   "metadata": {},
   "outputs": [
    {
     "name": "stdout",
     "output_type": "stream",
     "text": [
      "229 346 14587 21801\n",
      "2.6677564165121455\n",
      "1.4526690738752805\n",
      "[18.64711622914023, 40.437152337269445, 65.13252659314921, 81.1118864057773, 140.6713184346638]\n",
      "[0.0, 0.0, 0.0, 0.0, 0.0]\n",
      "    x    y\n",
      "0  11   13\n",
      "1  26   35\n",
      "2  43   65\n",
      "3  54  102\n",
      "4  95  131\n",
      "    x           f\n",
      "0  11   18.647116\n",
      "1  26   40.437152\n",
      "2  43   65.132527\n",
      "3  54   81.111886\n",
      "4  95  140.671318\n"
     ]
    },
    {
     "data": {
      "image/png": "[encoded data removed]",
      "text/plain": [
       "<Figure size 432x288 with 1 Axes>"
      ]
     },
     "metadata": {
      "needs_background": "light"
     },
     "output_type": "display_data"
    }
   ],
   "source": [
    "prog = prognoz([11,26,43,54,95], [13,35,65,102,131])\n",
    "print(prog.sum_x(),\n",
    "prog.sum_y(),\n",
    "prog.square_x(),\n",
    "prog.sum_xy())\n",
    "print(prog.var_b())\n",
    "print(prog.var_a())\n",
    "print(prog.array_f())\n",
    "print(prog.approx_func())\n",
    "prog.draw_board()"
   ]
  }
 ],
 "metadata": {
  "kernelspec": {
   "display_name": "Python 3 (ipykernel)",
   "language": "python",
   "name": "python3"
  },
  "language_info": {
   "codemirror_mode": {
    "name": "ipython",
    "version": 3
   },
   "file_extension": ".py",
   "mimetype": "text/x-python",
   "name": "python",
   "nbconvert_exporter": "python",
   "pygments_lexer": "ipython3",
   "version": "3.10.4"
  }
 },
 "nbformat": 4,
 "nbformat_minor": 5
}
