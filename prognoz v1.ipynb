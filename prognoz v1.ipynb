{
 "cells": [
  {
   "cell_type": "code",
   "execution_count": 1,
   "id": "3525e2db",
   "metadata": {},
   "outputs": [
    {
     "name": "stdout",
     "output_type": "stream",
     "text": [
      "Requirement already satisfied: matplotlib in c:\\users\\user\\appdata\\local\\programs\\python\\python310\\lib\\site-packages (3.5.1)\n",
      "Requirement already satisfied: fonttools>=4.22.0 in c:\\users\\user\\appdata\\local\\programs\\python\\python310\\lib\\site-packages (from matplotlib) (4.32.0)\n",
      "Requirement already satisfied: numpy>=1.17 in c:\\users\\user\\appdata\\local\\programs\\python\\python310\\lib\\site-packages (from matplotlib) (1.22.3)\n",
      "Requirement already satisfied: cycler>=0.10 in c:\\users\\user\\appdata\\local\\programs\\python\\python310\\lib\\site-packages (from matplotlib) (0.11.0)\n",
      "Requirement already satisfied: pillow>=6.2.0 in c:\\users\\user\\appdata\\local\\programs\\python\\python310\\lib\\site-packages (from matplotlib) (9.1.0)\n",
      "Requirement already satisfied: pyparsing>=2.2.1 in c:\\users\\user\\appdata\\local\\programs\\python\\python310\\lib\\site-packages (from matplotlib) (3.0.8)\n",
      "Requirement already satisfied: python-dateutil>=2.7 in c:\\users\\user\\appdata\\local\\programs\\python\\python310\\lib\\site-packages (from matplotlib) (2.8.2)\n",
      "Requirement already satisfied: kiwisolver>=1.0.1 in c:\\users\\user\\appdata\\local\\programs\\python\\python310\\lib\\site-packages (from matplotlib) (1.4.2)\n",
      "Requirement already satisfied: packaging>=20.0 in c:\\users\\user\\appdata\\local\\programs\\python\\python310\\lib\\site-packages (from matplotlib) (21.3)\n",
      "Requirement already satisfied: six>=1.5 in c:\\users\\user\\appdata\\local\\programs\\python\\python310\\lib\\site-packages (from python-dateutil>=2.7->matplotlib) (1.16.0)\n"
     ]
    }
   ],
   "source": [
    "!pip install matplotlib"
   ]
  },
  {
   "cell_type": "code",
   "execution_count": 78,
   "id": "eb33bde6",
   "metadata": {},
   "outputs": [],
   "source": [
    "import numpy as np\n",
    "import matplotlib as plt\n",
    "import math as mt\n",
    "\n",
    "%matplotlib inline"
   ]
  },
  {
   "cell_type": "code",
   "execution_count": 130,
   "id": "05c69447",
   "metadata": {},
   "outputs": [],
   "source": [
    "class prognoz:\n",
    "    ''' \n",
    "    \n",
    "        '''\n",
    "    value = 0 \n",
    "    \n",
    "    def __init__(self, array_x, array_y):\n",
    "        self.array_x = array_x\n",
    "        self.array_y = array_y\n",
    "    \n",
    "    def sum_x(self):\n",
    "        return(sum(self.array_x))\n",
    "        \n",
    "    def sum_y(self):\n",
    "        return(sum(self.array_y[i] for i in range(len(self.array_y))))\n",
    "\n",
    "    def square_x(self):\n",
    "        return(sum(self.array_x[i]**2 for i in range(len(self.array_x))))\n",
    "        \n",
    "    def sum_xy(self):\n",
    "        return(sum([self.array_x[i] * self.array_y[i] for i in range(len(self.array_x))]))\n",
    "    \n",
    "    def var_a(self):\n",
    "        return((len(self.array_x)*prognoz.sum_xy(self) - prognoz.sum_x(self) * prognoz.sum_y(self))/\n",
    "        (len(self.array_x)*prognoz.square_x(self) - (prognoz.sum_x(self)**2)))\n",
    "    \n",
    "    def var_b(self):\n",
    "        return((prognoz.sum_y(self)-prognoz.var_a(self)*prognoz.sum_x(self)) / (len(self.array_x)))\n",
    "    \n",
    "    def array_f(self):\n",
    "        return([prognoz.var_a(self)*self.array_x[i] + prognoz.var_b(self) \n",
    "                for i in range(len(self.array_x))])\n",
    "    \n",
    "    def approx_func(self):\n",
    "        return([(prognoz.array_f(self)[i] - (prognoz.var_a(self)*self.array_x[i]+\n",
    "                                            prognoz.var_b(self))**2) \n",
    "               for i in range(len(prognoz.array_f(self)))])"
   ]
  },
  {
   "cell_type": "code",
   "execution_count": 131,
   "id": "7f49c7fc",
   "metadata": {},
   "outputs": [
    {
     "name": "stdout",
     "output_type": "stream",
     "text": [
      "15 34.7 55 134.5\n",
      "-2.1799999999999997\n",
      "[0.8600000000000003, 3.9000000000000004, 6.940000000000001, 9.98, 13.02]\n",
      "[0.12039999999999973, -11.310000000000002, -41.22360000000002, -89.6204, -156.50039999999998]\n"
     ]
    }
   ],
   "source": [
    "prog = prognoz([1,2,3,4,5], [1.1,3.8,6.5,10.2,13.1])\n",
    "print(prog.sum_x(),\n",
    "prog.sum_y(),\n",
    "prog.square_x(),\n",
    "prog.sum_xy())\n",
    "print(prog.var_b())\n",
    "print(prog.array_f())\n",
    "print(prog.approx_func())"
   ]
  }
 ],
 "metadata": {
  "kernelspec": {
   "display_name": "Python 3 (ipykernel)",
   "language": "python",
   "name": "python3"
  },
  "language_info": {
   "codemirror_mode": {
    "name": "ipython",
    "version": 3
   },
   "file_extension": ".py",
   "mimetype": "text/x-python",
   "name": "python",
   "nbconvert_exporter": "python",
   "pygments_lexer": "ipython3",
   "version": "3.10.4"
  }
 },
 "nbformat": 4,
 "nbformat_minor": 5
}
