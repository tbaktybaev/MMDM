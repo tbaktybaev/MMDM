{
 "cells": [
  {
   "cell_type": "code",
   "execution_count": 136,
   "id": "dc128164",
   "metadata": {},
   "outputs": [
    {
     "name": "stdout",
     "output_type": "stream",
     "text": [
      "Requirement already satisfied: matplotlib in c:\\users\\user\\appdata\\local\\programs\\python\\python310\\lib\\site-packages (3.5.1)\n",
      "Requirement already satisfied: python-dateutil>=2.7 in c:\\users\\user\\appdata\\local\\programs\\python\\python310\\lib\\site-packages (from matplotlib) (2.8.2)\n",
      "Requirement already satisfied: kiwisolver>=1.0.1 in c:\\users\\user\\appdata\\local\\programs\\python\\python310\\lib\\site-packages (from matplotlib) (1.4.2)\n",
      "Requirement already satisfied: fonttools>=4.22.0 in c:\\users\\user\\appdata\\local\\programs\\python\\python310\\lib\\site-packages (from matplotlib) (4.32.0)\n",
      "Requirement already satisfied: pyparsing>=2.2.1 in c:\\users\\user\\appdata\\local\\programs\\python\\python310\\lib\\site-packages (from matplotlib) (3.0.8)\n",
      "Requirement already satisfied: numpy>=1.17 in c:\\users\\user\\appdata\\local\\programs\\python\\python310\\lib\\site-packages (from matplotlib) (1.22.3)\n",
      "Requirement already satisfied: packaging>=20.0 in c:\\users\\user\\appdata\\local\\programs\\python\\python310\\lib\\site-packages (from matplotlib) (21.3)\n",
      "Requirement already satisfied: cycler>=0.10 in c:\\users\\user\\appdata\\local\\programs\\python\\python310\\lib\\site-packages (from matplotlib) (0.11.0)\n",
      "Requirement already satisfied: pillow>=6.2.0 in c:\\users\\user\\appdata\\local\\programs\\python\\python310\\lib\\site-packages (from matplotlib) (9.1.0)\n",
      "Requirement already satisfied: six>=1.5 in c:\\users\\user\\appdata\\local\\programs\\python\\python310\\lib\\site-packages (from python-dateutil>=2.7->matplotlib) (1.16.0)\n",
      "Collecting seaborn\n",
      "  Downloading seaborn-0.11.2-py3-none-any.whl (292 kB)\n",
      "     ------------------------------------ 292.8/292.8 KB 951.4 kB/s eta 0:00:00\n",
      "Requirement already satisfied: matplotlib>=2.2 in c:\\users\\user\\appdata\\local\\programs\\python\\python310\\lib\\site-packages (from seaborn) (3.5.1)\n",
      "Collecting pandas>=0.23\n",
      "  Downloading pandas-1.4.2-cp310-cp310-win_amd64.whl (10.6 MB)\n",
      "     ---------------------------------------- 10.6/10.6 MB 3.0 MB/s eta 0:00:00\n",
      "Requirement already satisfied: numpy>=1.15 in c:\\users\\user\\appdata\\local\\programs\\python\\python310\\lib\\site-packages (from seaborn) (1.22.3)\n",
      "Collecting scipy>=1.0\n",
      "  Downloading scipy-1.8.0-cp310-cp310-win_amd64.whl (37.0 MB)\n",
      "     ---------------------------------------- 37.0/37.0 MB 2.5 MB/s eta 0:00:00\n",
      "Requirement already satisfied: pillow>=6.2.0 in c:\\users\\user\\appdata\\local\\programs\\python\\python310\\lib\\site-packages (from matplotlib>=2.2->seaborn) (9.1.0)\n",
      "Requirement already satisfied: kiwisolver>=1.0.1 in c:\\users\\user\\appdata\\local\\programs\\python\\python310\\lib\\site-packages (from matplotlib>=2.2->seaborn) (1.4.2)\n",
      "Requirement already satisfied: packaging>=20.0 in c:\\users\\user\\appdata\\local\\programs\\python\\python310\\lib\\site-packages (from matplotlib>=2.2->seaborn) (21.3)\n",
      "Requirement already satisfied: fonttools>=4.22.0 in c:\\users\\user\\appdata\\local\\programs\\python\\python310\\lib\\site-packages (from matplotlib>=2.2->seaborn) (4.32.0)\n",
      "Requirement already satisfied: python-dateutil>=2.7 in c:\\users\\user\\appdata\\local\\programs\\python\\python310\\lib\\site-packages (from matplotlib>=2.2->seaborn) (2.8.2)\n",
      "Requirement already satisfied: pyparsing>=2.2.1 in c:\\users\\user\\appdata\\local\\programs\\python\\python310\\lib\\site-packages (from matplotlib>=2.2->seaborn) (3.0.8)\n",
      "Requirement already satisfied: cycler>=0.10 in c:\\users\\user\\appdata\\local\\programs\\python\\python310\\lib\\site-packages (from matplotlib>=2.2->seaborn) (0.11.0)\n",
      "Requirement already satisfied: pytz>=2020.1 in c:\\users\\user\\appdata\\local\\programs\\python\\python310\\lib\\site-packages (from pandas>=0.23->seaborn) (2022.1)\n",
      "Requirement already satisfied: six>=1.5 in c:\\users\\user\\appdata\\local\\programs\\python\\python310\\lib\\site-packages (from python-dateutil>=2.7->matplotlib>=2.2->seaborn) (1.16.0)\n",
      "Installing collected packages: scipy, pandas, seaborn\n",
      "Successfully installed pandas-1.4.2 scipy-1.8.0 seaborn-0.11.2\n"
     ]
    }
   ],
   "source": [
    "!pip install matplotlib\n",
    "!pip install seaborn"
   ]
  },
  {
   "cell_type": "code",
   "execution_count": 137,
   "id": "70aeb097",
   "metadata": {},
   "outputs": [],
   "source": [
    "import numpy as np\n",
    "import matplotlib as plt\n",
    "import math as mt\n",
    "import seaborn as sb\n",
    "import pandas as pd\n",
    "\n",
    "%matplotlib inline"
   ]
  },
  {
   "cell_type": "code",
   "execution_count": 298,
   "id": "8ad24b10",
   "metadata": {},
   "outputs": [],
   "source": [
    "class prognoz:\n",
    "    ''' \n",
    "    \n",
    "        '''\n",
    "    value = 0 \n",
    "    \n",
    "    def __init__(self, array_x, array_y):\n",
    "        self.array_x = array_x\n",
    "        self.array_y = array_y\n",
    "    \n",
    "    def sum_x(self):\n",
    "        return(sum(self.array_x))\n",
    "        \n",
    "    def sum_y(self):\n",
    "        return(sum(self.array_y[i] for i in range(len(self.array_y))))\n",
    "\n",
    "    def square_x(self):\n",
    "        return(sum(self.array_x[i]**2 for i in range(len(self.array_x))))\n",
    "        \n",
    "    def sum_xy(self):\n",
    "        return(sum([self.array_x[i] * self.array_y[i] for i in range(len(self.array_x))]))\n",
    "    \n",
    "    def var_a(self):\n",
    "        return((len(self.array_x)*prognoz.sum_xy(self) - prognoz.sum_x(self) * prognoz.sum_y(self))/\n",
    "        (len(self.array_x)*prognoz.square_x(self) - (prognoz.sum_x(self)**2)))\n",
    "    \n",
    "    def var_b(self):\n",
    "        return((prognoz.sum_y(self)-prognoz.var_a(self)*prognoz.sum_x(self)) / (len(self.array_x)))\n",
    "    \n",
    "    def array_f(self):\n",
    "        return([prognoz.var_a(self)*self.array_x[i] + prognoz.var_b(self) \n",
    "                for i in range(len(self.array_x))])\n",
    "    \n",
    "    def approx_func(self):\n",
    "        a = [prognoz.array_f(self)[i] - (prognoz.var_a(self)*self.array_x[i]+ prognoz.var_b(self)) \n",
    "                                         for i in range(len(prognoz.array_f(self)))]\n",
    "        return([a[i]**2 for i in range(len(a))]) \n",
    "     \n",
    "        '''тут начинается расчет квадратичной функции\n",
    "        она отличается только тем что добавляются 3 и 4 степени массива x.\n",
    "            '''\n",
    "        \n",
    "    def sum_3_degree(self):\n",
    "        return(sum(self.array_x[i]**3 for i in range(len(self.array_x))))\n",
    "\n",
    "    def sum_4_degree(self):\n",
    "        return(sum(self.array_x[i]**4 for i in range(len(self.array_x))))\n",
    "\n",
    "    def sum_x2_y(self):\n",
    "        return(sum([(self.array_x[i]**2)*self.array_y[i] for i in range(len(self.array_x))]))\n",
    "\n",
    "\n",
    "    def main_matrix(self):\n",
    "        '''\n",
    "        основная матрица имеет вид (если что)\n",
    "            ax^4+bx^3+сx^2\n",
    "            ax^3+bx^2+cx\n",
    "            ax^2+bx+cn, \n",
    "            где n - длина массива\n",
    "            '''\n",
    "        return([\n",
    "                [prognoz.sum_4_degree(self), prognoz.sum_3_degree(self),prognoz.square_x(self)],\n",
    "                [prognoz.sum_3_degree(self), prognoz.square_x(self), prognoz.sum_x(self)],\n",
    "                [prognoz.square_x(self), prognoz.sum_x(self), len(self.array_x)]\n",
    "                ])\n",
    "    \n",
    "    def det(self):\n",
    "        return(np.linalg.det(np.matrix(prognoz.main_matrix(self))))\n",
    "\n",
    "    def var_abc(self):\n",
    "        a = np.array(prognoz.main_matrix(self))\n",
    "        b = np.array([prognoz.sum_x2_y(self), prognoz.sum_xy(self), prognoz.sum_y(self)])\n",
    "        return(np.linalg.inv(a).dot(b))\n",
    "        \n",
    "    def array_square_f(self):\n",
    "        return([prognoz.var_abc(self)[0]*(self.array_x[i]**2)+\n",
    "                (prognoz.var_abc(self)[1]*self.array_x[i])+\n",
    "                prognoz.var_abc(self)[2] for i in range(len(self.array_x))])\n",
    "        \n",
    "    ''' дальше идет общие задания для пунктов'''\n",
    "    def dispersion(self):\n",
    "        '''\n",
    "        тут должна быть расчитана дисперсия\n",
    "            '''\n",
    "    def function_str(self):\n",
    "        '''\n",
    "        тут должна быть выведена функция\n",
    "            '''\n",
    "        #по рисунку, он еще недоработан\n",
    "    def draw_board(self):\n",
    "\n",
    "        list_xy = {\n",
    "            'x': self.array_x,\n",
    "            'y': self.array_y\n",
    "        }\n",
    "\n",
    "        list_xf = {\n",
    "            'x': self.array_x,\n",
    "            'y': self.array_y,\n",
    "            'f': prognoz.array_f(self)\n",
    "        }\n",
    "        \n",
    "        list_xf_2 = {\n",
    "            'x': self.array_x,\n",
    "            'y': self.array_y,\n",
    "            'f^2': prognoz.array_square_f(self),\n",
    "        }\n",
    "\n",
    "        df_xy = pd.DataFrame(list_xy)\n",
    "        df_xf = pd.DataFrame(list_xf)\n",
    "        df_xf_2 = pd.DataFrame(list_xf_2)\n",
    "\n",
    "        print(df_xy)\n",
    "        print(df_xf)\n",
    "        print(df_xf_2)\n",
    "\n",
    "        sb.scatterplot(data = df_xy, x='x', y='y')\n",
    "        sb.lineplot(data = df_xf, x='x', y='f')\n",
    "       \n",
    "        sb.scatterplot(data = df_xy, x='x', y='y')\n",
    "        sb.lineplot(data = df_xf_2, x='x', y='f^2')"
   ]
  },
  {
   "cell_type": "code",
   "execution_count": 299,
   "id": "9e6b540c",
   "metadata": {},
   "outputs": [],
   "source": [
    "prog = prognoz([1, 2, 3, 4, 5], [155,15,256,45,650])"
   ]
  },
  {
   "cell_type": "code",
   "execution_count": 301,
   "id": "0cc08c32",
   "metadata": {},
   "outputs": [
    {
     "name": "stdout",
     "output_type": "stream",
     "text": [
      "[168.48571428571694, 48.0571428571447, 75.9142857142877, 252.05714285714595, 576.4857142857193]\n"
     ]
    }
   ],
   "source": [
    "print(prog.array_square_f())"
   ]
  },
  {
   "cell_type": "code",
   "execution_count": 303,
   "id": "f66af956",
   "metadata": {},
   "outputs": [
    {
     "name": "stdout",
     "output_type": "stream",
     "text": [
      "15\n",
      "1121\n",
      "55\n",
      "4383\n",
      "-81.8\n",
      "102.0\n",
      "[20.200000000000003, 122.2, 224.2, 326.2, 428.2]\n",
      "[0.0, 0.0, 0.0, 0.0, 0.0]\n",
      "   x    y\n",
      "0  1  155\n",
      "1  2   15\n",
      "2  3  256\n",
      "3  4   45\n",
      "4  5  650\n",
      "   x    y      f\n",
      "0  1  155   20.2\n",
      "1  2   15  122.2\n",
      "2  3  256  224.2\n",
      "3  4   45  326.2\n",
      "4  5  650  428.2\n",
      "   x    y         f^2\n",
      "0  1  155  168.485714\n",
      "1  2   15   48.057143\n",
      "2  3  256   75.914286\n",
      "3  4   45  252.057143\n",
      "4  5  650  576.485714\n",
      "None\n"
     ]
    },
    {
     "data": {
      "image/png": "[encoded data removed]",
      "text/plain": [
       "<Figure size 432x288 with 1 Axes>"
      ]
     },
     "metadata": {
      "needs_background": "light"
     },
     "output_type": "display_data"
    }
   ],
   "source": [
    "print(prog.sum_x()) #сумма х\n",
    "print(prog.sum_y()) #сумма значений y\n",
    "print(prog.square_x()) #сумма квадратов x\n",
    "print(prog.sum_xy()) #сумма произведений x и y\n",
    "print(prog.var_b()) #значение b в линейной функции\n",
    "print(prog.var_a()) #значение a в квадратичной\n",
    "print(prog.array_f()) #аппроксимированные значения\n",
    "print(prog.approx_func()) #поиск отклонений, где функция стремится к минимуму для линейной функции \n",
    "print(prog.draw_board()) #прорисовка (не закончена)"
   ]
  }
 ],
 "metadata": {
  "kernelspec": {
   "display_name": "Python 3 (ipykernel)",
   "language": "python",
   "name": "python3"
  },
  "language_info": {
   "codemirror_mode": {
    "name": "ipython",
    "version": 3
   },
   "file_extension": ".py",
   "mimetype": "text/x-python",
   "name": "python",
   "nbconvert_exporter": "python",
   "pygments_lexer": "ipython3",
   "version": "3.10.4"
  }
 },
 "nbformat": 4,
 "nbformat_minor": 5
}
